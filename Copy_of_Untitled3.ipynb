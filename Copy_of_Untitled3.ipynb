{
  "nbformat": 4,
  "nbformat_minor": 0,
  "metadata": {
    "colab": {
      "provenance": []
    },
    "kernelspec": {
      "name": "python3",
      "display_name": "Python 3"
    },
    "language_info": {
      "name": "python"
    }
  },
  "cells": [
    {
      "cell_type": "code",
      "execution_count": null,
      "metadata": {
        "colab": {
          "base_uri": "https://localhost:8080/"
        },
        "id": "yiGJoKE94wco",
        "outputId": "5c63de78-1e4c-4879-f923-1fd314bbd1c1"
      },
      "outputs": [
        {
          "output_type": "stream",
          "name": "stdout",
          "text": [
            "Data cleaning completed. Cleaned file saved as netflix1_cleaned.xlsx\n"
          ]
        }
      ],
      "source": [
        "import pandas as pd\n",
        "\n",
        "# Load dataset\n",
        "file_path = \"netflix1.xlsx\"\n",
        "data = pd.read_excel(file_path, sheet_name=\"Sheet1\")\n",
        "\n",
        "# ----------------------\n",
        "# Data Cleaning Steps\n",
        "# ----------------------\n",
        "\n",
        "# 1. Standardize column names\n",
        "data.columns = data.columns.str.strip().str.lower().str.replace(\" \", \"_\")\n",
        "\n",
        "# 2. Remove duplicates\n",
        "data.drop_duplicates(inplace=True)\n",
        "\n",
        "# 3. Handle missing values\n",
        "# Fill missing director/country with 'Unknown'\n",
        "data['director'] = data['director'].fillna('Unknown')\n",
        "data['country'] = data['country'].fillna('Unknown')\n",
        "\n",
        "# Fill missing rating with 'Unrated'\n",
        "data['rating'] = data['rating'].fillna('Unrated')\n",
        "\n",
        "# Drop rows with missing essential fields like title or type\n",
        "data.dropna(subset=['title', 'type'], inplace=True)\n",
        "\n",
        "# 4. Clean whitespace in text columns\n",
        "for col in data.select_dtypes(include='object').columns:\n",
        "    data[col] = data[col].str.strip()\n",
        "\n",
        "# 5. Ensure date_added is datetime\n",
        "data['date_added'] = pd.to_datetime(data['date_added'], errors='coerce')\n",
        "\n",
        "# 6. Split duration into numeric + unit\n",
        "# Example: \"90 min\" → 90, \"1 Season\" → 1\n",
        "\n",
        "# Create two new columns: duration_int and duration_unit\n",
        "data['duration_int'] = data['duration'].str.extract(r'(\\d+)').astype(float)\n",
        "data['duration_unit'] = data['duration'].str.extract(r'([A-Za-z]+)')\n",
        "\n",
        "# 7. Reset index\n",
        "data.reset_index(drop=True, inplace=True)\n",
        "\n",
        "# Save cleaned dataset\n",
        "data.to_excel(\"netflix1_cleaned.xlsx\", index=False)\n",
        "\n",
        "print(\"Data cleaning completed. Cleaned file saved as netflix1_cleaned.xlsx\")\n"
      ]
    },
    {
      "cell_type": "markdown",
      "source": [],
      "metadata": {
        "id": "utgXvTk25BVR"
      }
    }
  ]
}